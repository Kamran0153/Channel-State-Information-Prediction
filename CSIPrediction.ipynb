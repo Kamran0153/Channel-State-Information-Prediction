{
  "nbformat": 4,
  "nbformat_minor": 0,
  "metadata": {
    "colab": {
      "provenance": []
    },
    "kernelspec": {
      "name": "python3",
      "display_name": "Python 3"
    },
    "language_info": {
      "name": "python"
    }
  },
  "cells": [
    {
      "cell_type": "markdown",
      "source": [
        "# Import Necessary Packages"
      ],
      "metadata": {
        "id": "H7Utvv3VXY5I"
      }
    },
    {
      "cell_type": "code",
      "execution_count": null,
      "metadata": {
        "id": "9z2ec2oKZQ9p"
      },
      "outputs": [],
      "source": [
        "import numpy as np\n",
        "import matplotlib.pyplot as plt\n",
        "import pandas as pd"
      ]
    },
    {
      "cell_type": "markdown",
      "source": [
        "# Generate the Time-series Sequence of the CSI Dataset"
      ],
      "metadata": {
        "id": "F-xXAevdXjdn"
      }
    },
    {
      "cell_type": "code",
      "source": [
        "fc=2*10e9 #carrier frequency\n",
        "c=3*10e8 \n",
        "v=15 # user velocity\n",
        "fd=fc*v/c #doppler frequency\n",
        "Ts=0.001 #sampling time \n",
        "a=0\n",
        "b=2*np.pi\n",
        "M=124\n",
        "alpha=a+(b-a)*np.random.uniform(0,1,M) #uniformly distributed from 0 to 2 pi\n",
        "beta=a+(b-a)*np.random.uniform(0,1,M) #uniformly distributed from 0 to 2 pi\n",
        "theta=a+(b-a)*np.random.uniform(0,1,M) #uniformly distributed from 0 to 2 pi\n",
        "m=np.arange(M)+1;\n",
        "x=np.cos(((2*m-1)*np.pi+theta)/(4*M))"
      ],
      "metadata": {
        "id": "YwCkhfk3Zam0"
      },
      "execution_count": null,
      "outputs": []
    },
    {
      "cell_type": "code",
      "source": [
        "N=100000 #Number of data samples\n",
        "h_re=np.zeros(N)\n",
        "h_im=np.zeros(N)\n",
        "for n in range(N):\n",
        "\n",
        "  h_re[n]=1/np.sqrt(M)*np.sum(np.cos(2*np.pi*fd*x*n*Ts+alpha))\n",
        "  h_im[n]=1/np.sqrt(M)*np.sum(np.sin(2*np.pi*fd*x*n*Ts+beta))\n"
      ],
      "metadata": {
        "id": "R4NhaCOgZlqn"
      },
      "execution_count": null,
      "outputs": []
    },
    {
      "cell_type": "markdown",
      "source": [
        "# Create Feature and Target Variables"
      ],
      "metadata": {
        "id": "llypiWsGXrhF"
      }
    },
    {
      "cell_type": "code",
      "source": [
        "#Feature\n",
        "X=np.vstack((h_re, h_im))\n",
        "X=np.transpose(X)\n",
        "#Target\n",
        "y=X\n",
        "for i in range(len(X)):\n",
        " X[i]=X[i]+np.random.normal(0, 10e-6,2)\n",
        "l=len(y)\n",
        "y=y[0:l-100]"
      ],
      "metadata": {
        "id": "l1dXKT6VZn6p"
      },
      "execution_count": null,
      "outputs": []
    },
    {
      "cell_type": "markdown",
      "source": [
        "# Generate the Inference Error Function"
      ],
      "metadata": {
        "id": "23CHKLPUX2BB"
      }
    },
    {
      "cell_type": "code",
      "source": [
        "u=10 #size of the feature\n",
        "print('size of the feature', u)\n",
        "Xt=X[0:l-100,:]\n",
        "a=np.zeros(u)\n",
        "for j in range(u):\n",
        "    Xt=np.hstack((Xt,X[j+1:l-99+j,:]))\n",
        "X=Xt\n",
        "\n",
        "i=20 #number of Age values in the simulation\n",
        "l=len(y)\n",
        "age=np.zeros(i) \n",
        "score1=np.zeros(i)\n",
        "score2=np.zeros(i)\n",
        "\n",
        "for n in range(i):\n",
        "  print(\"AoI\", n)\n",
        "  age[n]=n\n",
        "  y_t=y[0:l-n]\n",
        "  X_t=X[n:l, :]\n",
        "  \n",
        "  #Because we model the random process h(t)=h_re(t)+ j h_im(t) as complex guassian, the linear predictor is an optimal choice. Hence, we have used linear regression.\n",
        "  \n",
        "  from sklearn.model_selection import train_test_split\n",
        "  X_train, X_test, y_train, y_test = train_test_split(X_t, y_t, test_size=0.20)\n",
        "  from sklearn.linear_model import LinearRegression\n",
        "  regressor = LinearRegression()\n",
        "  regressor.fit(X_train, y_train)\n",
        "    \n",
        "  y_pred = regressor.predict(X_train)\n",
        "  y_val =  regressor.predict(X_test)\n",
        "  from sklearn.metrics import mean_squared_error\n",
        "  score1[n]=mean_squared_error(y_train, y_pred)\n",
        "  score2[n]=mean_squared_error(y_test, y_val)\n",
        "\n",
        "print('InferenceError=', score1)\n"
      ],
      "metadata": {
        "colab": {
          "base_uri": "https://localhost:8080/"
        },
        "id": "mbAy6PLXZwnQ",
        "outputId": "959a650f-d48b-404d-92c4-5a76bf289b0a"
      },
      "execution_count": null,
      "outputs": [
        {
          "output_type": "stream",
          "name": "stdout",
          "text": [
            "size of the feature 10\n",
            "AoI 0\n",
            "AoI 1\n",
            "AoI 2\n",
            "AoI 3\n",
            "AoI 4\n",
            "AoI 5\n",
            "AoI 6\n",
            "AoI 7\n",
            "AoI 8\n",
            "AoI 9\n",
            "AoI 10\n",
            "AoI 11\n",
            "AoI 12\n",
            "AoI 13\n",
            "AoI 14\n",
            "AoI 15\n",
            "AoI 16\n",
            "AoI 17\n",
            "AoI 18\n",
            "AoI 19\n",
            "InferenceError= [1.55197331e-29 1.11857600e-07 3.76739429e-06 4.59587628e-05\n",
            " 3.19796110e-04 1.53229148e-03 5.47365033e-03 1.55524606e-02\n",
            " 3.64010604e-02 7.16780243e-02 1.20317659e-01 1.75803665e-01\n",
            " 2.25040001e-01 2.57383991e-01 2.70782207e-01 2.72771721e-01\n",
            " 2.73960281e-01 2.85249863e-01 3.02508393e-01 3.19080979e-01]\n"
          ]
        }
      ]
    },
    {
      "cell_type": "code",
      "source": [
        "plt.plot(score1)"
      ],
      "metadata": {
        "colab": {
          "base_uri": "https://localhost:8080/",
          "height": 282
        },
        "id": "wuZitw7EbPIs",
        "outputId": "b174f7b4-ca08-4aa2-9c46-b91f1ae7c177"
      },
      "execution_count": null,
      "outputs": [
        {
          "output_type": "execute_result",
          "data": {
            "text/plain": [
              "[<matplotlib.lines.Line2D at 0x7f0c5e9564c0>]"
            ]
          },
          "metadata": {},
          "execution_count": 60
        },
        {
          "output_type": "display_data",
          "data": {
            "text/plain": [
              "<Figure size 432x288 with 1 Axes>"
            ],
            "image/png": "[encoded data removed]"
          },
          "metadata": {
            "needs_background": "light"
          }
        }
      ]
    }
  ]
}